{
  "nbformat": 4,
  "nbformat_minor": 0,
  "metadata": {
    "colab": {
      "name": "Crypto_prediction.ipynb",
      "provenance": [],
      "collapsed_sections": []
    },
    "kernelspec": {
      "name": "python3",
      "display_name": "Python 3",
      "language": "python"
    }
  },
  "cells": [
    {
      "cell_type": "code",
      "metadata": {
        "id": "vQQwj6o_AJAF"
      },
      "source": [
        "# !pip install alpha_vantage"
      ],
      "execution_count": 3,
      "outputs": []
    },
    {
      "cell_type": "code",
      "execution_count": 4,
      "metadata": {},
      "outputs": [],
      "source": [
        "# !pip install pandas_datareader"
      ]
    },
    {
      "cell_type": "code",
      "metadata": {
        "id": "GHQkyZc0pi6z"
      },
      "source": [
        "# Import Statement\n",
        "import numpy as np\n",
        "import pandas as pd\n",
        "import datetime as date\n",
        "import requests\n",
        "from pandas_datareader import data\n",
        "from sklearn.neighbors import KNeighborsRegressor\n",
        "\n",
        "# from alpha_vantage.cryptocurrencies import CryptoCurrencies\n",
        "API_KEY = 'VQTPJ1YBJF3UBLZB'\n",
        "# app = CryptoCurrencies(API_KEY) \n",
        "\n",
        "pd.options.display.float_format = '{:,.2f}'.format"
      ],
      "execution_count": 22,
      "outputs": []
    },
    {
      "cell_type": "code",
      "metadata": {
        "id": "StxJmYTq3QsT"
      },
      "source": [
        "# by using ALPHA VANTAGE API\n",
        "# https://www.alphavantage.co/query?function=DIGITAL_CURRENCY_DAILY&symbol=BTC&market=CNY&apikey=demo&datatype=csv\n",
        "\n",
        "class Crypto_prediction:\n",
        "  def __init__(self,symbol):\n",
        "    self.df = None\n",
        "    self.symbol = symbol\n",
        "\n",
        "  def get_df(self):\n",
        "    base_url = 'https://www.alphavantage.co/query?'\n",
        "    params = {'function': 'DIGITAL_CURRENCY_DAILY',\n",
        "              'symbol': self.symbol,\n",
        "              'market': 'INR',\n",
        "              'apikey': API_KEY\n",
        "              }\n",
        "\n",
        "    response_dict = requests.get(base_url, params=params).json()\n",
        "\n",
        "    key_ar = list(response_dict.keys())\n",
        "    if len(key_ar) == 1:\n",
        "      print(key_ar)\n",
        "      self.df =  pd.DataFrame(np.nan,index=[0,1],columns=['A'])\n",
        "      return self.df\n",
        "    #Convert to pandas dataframe\n",
        "\n",
        "    df = pd.DataFrame.from_dict(response_dict[key_ar[-1]], orient='index')\n",
        "\n",
        "    # 1\n",
        "    for each in df.columns:\n",
        "      df[each]= df[each].astype(float)\n",
        "\n",
        "    # 2\n",
        "    df = df[::-1]\n",
        "    self.df = df\n",
        "    return self.df\n",
        "\n",
        "\n",
        "  def get_prediction(self):\n",
        "    df = self.get_df()\n",
        "    \n",
        "    if df.isna().any().any():\n",
        "      return \"Time limit exceeded, Alpha Vantage's standard API call frequency is 5 calls per minute and 500 calls per day\"\n",
        "    \n",
        "\n",
        "    cls_point = df.loc[:, ['4a. close (INR)']]\n",
        "    open_point = df.loc[:, ['1a. open (INR)']]\n",
        "    high_point = df.loc[:, ['2a. high (INR)']]\n",
        "    low_point = df.loc[:, ['3a. low (INR)']]\n",
        "    vol = df.loc[:, ['5. volume']]\n",
        "\n",
        "    feature = []\n",
        "    cls_point_arr = []\n",
        "    target_label = []\n",
        "# creating feature set\n",
        "    for i in range((len(cls_point.index) - 1)):\n",
        "      feature.append([open_point.iloc[i].values[0],\n",
        "                      high_point.iloc[i].values[0],\n",
        "                      low_point.iloc[i].values[0],\n",
        "                      vol.iloc[i].values[0]]\n",
        "                      )\n",
        "# creating  set        \n",
        "    for i in range(len(cls_point.index)):\n",
        "      cls_point_arr.append(cls_point.iloc[i].values[0])\n",
        "      \n",
        "      close_point_shifted_right = [cls_point_arr[i] for i in range(1, len(cls_point_arr))]\n",
        "\n",
        "# target label : last value of dataset\n",
        "      j = len(cls_point.index) - 1\n",
        "      target_label.append([open_point.iloc[j].values[0],\n",
        "                          high_point.iloc[j].values[0],\n",
        "                          low_point.iloc[j].values[0],\n",
        "                          vol.iloc[j].values[0]]\n",
        "                        )\n",
        "\n",
        "    knnregressor = KNeighborsRegressor(n_neighbors=31, weights='uniform',algorithm='kd_tree')\n",
        "    knnregressor.fit(feature, close_point_shifted_right)\n",
        "    val = knnregressor.predict(target_label)\n",
        "\n",
        "    return (close_point_shifted_right[-1],val[0])\n",
        "  # 26,96,232.08"
      ],
      "execution_count": 25,
      "outputs": []
    },
    {
      "cell_type": "code",
      "metadata": {
        "colab": {
          "base_uri": "https://localhost:8080/"
        },
        "id": "Fn7KW4sEtyP1",
        "outputId": "9ed03f1d-0162-495b-8d47-8147692b8fa0",
        "tags": []
      },
      "source": [
        "\"\"\"\n",
        "Bitcoin.\n",
        "Ethereum.\n",
        "Ripple XRP.\n",
        "Litecoin.\n",
        "NEO.\n",
        "IOTA.\n",
        "Cardano (ADA)\n",
        "Polkadot (DOT)\n",
        "Stellar (XLM)\n",
        "Tether (USDT)\n",
        "\"\"\"\n",
        "arr = ['BTC','ETC','XRP','LTC','NEO','DICE']\n",
        "\n",
        "for i in arr:\n",
        "  obj = Crypto_prediction(i)\n",
        "  obj.get_df()\n",
        "  print(i+\": \",obj.get_prediction())\n"
      ],
      "execution_count": 26,
      "outputs": [
        {
          "output_type": "stream",
          "name": "stdout",
          "text": [
            "BTC:  (2719430.7186, 2578903.443654838)\n",
            "ETC:  (568.1681475, 480.59142331451613)\n",
            "['Note']\n",
            "XRP:  Time limit exceeded, Alpha Vantage's standard API call frequency is 5 calls per minute and 500 calls per day\n",
            "['Note']\n",
            "['Note']\n",
            "LTC:  Time limit exceeded, Alpha Vantage's standard API call frequency is 5 calls per minute and 500 calls per day\n",
            "['Note']\n",
            "['Note']\n",
            "NEO:  Time limit exceeded, Alpha Vantage's standard API call frequency is 5 calls per minute and 500 calls per day\n",
            "['Note']\n",
            "['Note']\n",
            "DICE:  Time limit exceeded, Alpha Vantage's standard API call frequency is 5 calls per minute and 500 calls per day\n"
          ]
        }
      ]
    },
    {
      "cell_type": "code",
      "metadata": {
        "id": "S1wj9vtVy1fW"
      },
      "source": [
        "# !pip install flask-ngrok"
      ],
      "execution_count": null,
      "outputs": []
    },
    {
      "cell_type": "code",
      "metadata": {
        "colab": {
          "base_uri": "https://localhost:8080/"
        },
        "id": "TMlghnGt41bk",
        "outputId": "8f601fd3-4738-4f33-a52d-429d76046f9e"
      },
      "source": [
        "from flask_ngrok import run_with_ngrok\n",
        "from flask import Flask\n",
        "\n",
        "app = Flask(__name__)\n",
        "# run_with_ngrok(app)\n",
        "\n",
        "@app.route('/')\n",
        "def index():\n",
        "  \"\"\"\n",
        "  Bitcoin.\n",
        "  Ethereum.\n",
        "  Ripple XRP.\n",
        "  Litecoin.\n",
        "  NEO.\n",
        "  IOTA.\n",
        "  Cardano (ADA)\n",
        "  Polkadot (DOT)\n",
        "  Stellar (XLM)\n",
        "  Tether (USDT)\n",
        "  \"\"\"\n",
        "  arr = ['BTC','ETC','XRP','LTC','NEO','IOTA','ADA','DOT','XLM','USDT']\n",
        "  for i in arr:\n",
        "    obj = Crypto_prediction(i)\n",
        "    preds = obj.get_prediction()\n",
        "\n",
        "  return f\"<h1> {preds} </h1>\"\n",
        "\n",
        "app.run()"
      ],
      "execution_count": null,
      "outputs": []
    },
    {
      "cell_type": "code",
      "metadata": {
        "id": "t7LF1g9c3PR1"
      },
      "source": [
        "# from sklearn.neighbors import KNeighborsClassifier\n",
        "# from sklearn.metrics import accuracy_score\n",
        "\n",
        "# def_buy_or_sell(df):\n",
        "#   df['Open-Close']= df['1a. open (INR)'] - df['3a. low (INR)']\n",
        "#   df['High-Low']  = df['2a. high (INR)'] - df['4a. close (INR)']\n",
        "#   df =df.dropna()\n",
        "#   X= df[['Open-Close', 'High-Low']]\n",
        "#   X.head()\n",
        "\n",
        "#   # Target variable\n",
        "#   Y= np.where(df['4a. close (INR)'].shift(-1)>df['4a. close (INR)'],1,-1)\n",
        "\n",
        "#   split_percentage = 0.7\n",
        "#   split = int(split_percentage*len(df))\n",
        "\n",
        "#   X_train = X[:split]\n",
        "#   Y_train = Y[:split]\n",
        "\n",
        "#   X_test = X[split:]\n",
        "#   Y_test = Y[split:]\n",
        "\n",
        "#   knn = KNeighborsClassifier(n_neighbors=15)\n",
        "\n",
        "#   # fit the model\n",
        "#   knn.fit(X_train, Y_train)\n",
        "\n",
        "#   # Accuracy Score\n",
        "#   accuracy_train = accuracy_score(Y_train, knn.predict(X_train))\n",
        "#   accuracy_test = accuracy_score(Y_test, knn.predict(X_test))\n",
        "\n",
        "#   print ('Train_data Accuracy: %.2f' %accuracy_train)\n",
        "#   print ('Test_data Accuracy: %.2f' %accuracy_test)"
      ],
      "execution_count": null,
      "outputs": []
    }
  ]
}